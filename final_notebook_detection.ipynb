{
  "cells": [
    {
      "cell_type": "code",
      "execution_count": null,
      "metadata": {
        "id": "d0ABSSIfvg7D"
      },
      "outputs": [],
      "source": [
        "%%bash\n",
        "git clone https://github.com/WongKinYiu/yolov7.git\n",
        "pip install -r ./yolov7/requirements.txt\n",
        "pip install filterpy scikit-image"
      ]
    },
    {
      "cell_type": "code",
      "execution_count": 2,
      "metadata": {
        "colab": {
          "base_uri": "https://localhost:8080/",
          "height": 36
        },
        "id": "Hvhsk9CgvrPg",
        "outputId": "7e2efde3-42c0-4244-eadd-3f996fa76735"
      },
      "outputs": [
        {
          "data": {
            "application/vnd.google.colaboratory.intrinsic+json": {
              "type": "string"
            },
            "text/plain": [
              "'/content/yolov7/sort.py'"
            ]
          },
          "execution_count": 2,
          "metadata": {},
          "output_type": "execute_result"
        }
      ],
      "source": [
        "import shutil\n",
        "import os\n",
        "import sys\n",
        "sys.path.append('./yolov7')\n",
        "\n",
        "if not os.path.isdir(\"./yolov7/weights\"):\n",
        "  os.makedirs(\"./yolov7/weights\")\n",
        "\n",
        "shutil.copyfile('./detect_or_track.py','./yolov7/detect_or_track.py')\n",
        "shutil.copyfile('./sort.py','./yolov7/sort.py')\n"
      ]
    },
    {
      "cell_type": "code",
      "execution_count": 3,
      "metadata": {
        "id": "8uuUWFBnvtxg"
      },
      "outputs": [],
      "source": [
        "%%bash\n",
        "wget -P /content/yolov7/weights https://github.com/WongKinYiu/yolov7/releases/download/v0.1/yolov7.pt\n",
        "wget -P /content/yolov7/weights https://github.com/WongKinYiu/yolov7/releases/download/v0.1/yolov7x.pt\n",
        "wget -P /content/yolov7/weights https://github.com/WongKinYiu/yolov7/releases/download/v0.1/yolov7-w6.pt\n",
        "wget -P /content/yolov7/weights https://github.com/WongKinYiu/yolov7/releases/download/v0.1/yolov7-e6.pt\n",
        "wget -P /content/yolov7/weights https://github.com/WongKinYiu/yolov7/releases/download/v0.1/yolov7-d6.pt\n",
        "wget -P /content/yolov7/weights https://github.com/WongKinYiu/yolov7/releases/download/v0.1/yolov7-e6e.pt"
      ]
    },
    {
      "cell_type": "code",
      "execution_count": null,
      "metadata": {
        "id": "VYZMaO0mvzBg"
      },
      "outputs": [],
      "source": [
        "shutil.rmtree('/content/runs')\n",
        "\n",
        "!python ./yolov7/detect_or_track.py --weights ./yolov7/weights/yolov7.pt --no-trace --source ./vid.mp4 --device 0 --show-fps --track --classes 0 --show-track --unique-track-color --thickness 5 "
      ]
    },
    {
      "cell_type": "code",
      "execution_count": 2,
      "metadata": {
        "colab": {
          "base_uri": "https://localhost:8080/",
          "height": 36
        },
        "id": "5IHMrxvrzDgc",
        "outputId": "76c703ac-559b-456d-ff87-4c3a33f42a82"
      },
      "outputs": [
        {
          "data": {
            "application/vnd.google.colaboratory.intrinsic+json": {
              "type": "string"
            },
            "text/plain": [
              "'/content/drive/MyDrive/track_result_compressed_3.mp4'"
            ]
          },
          "execution_count": 2,
          "metadata": {},
          "output_type": "execute_result"
        }
      ],
      "source": [
        "# If compression of video is preferred\n",
        "from base64 import b64encode\n",
        "\n",
        "i = 1\n",
        "save_path = './runs/detect/exp/vid.mp4'\n",
        "compressed_path = f\"/content/track_result_compressed_{i}.mp4\"\n",
        "\n",
        "os.system(f\"ffmpeg -i {save_path} -vcodec libx264 {compressed_path}\")"
      ]
    },
    {
      "cell_type": "code",
      "execution_count": null,
      "metadata": {
        "id": "AvDbQv9e8awI"
      },
      "outputs": [],
      "source": []
    }
  ],
  "metadata": {
    "accelerator": "GPU",
    "colab": {
      "provenance": []
    },
    "gpuClass": "standard",
    "kernelspec": {
      "display_name": "Python 3",
      "language": "python",
      "name": "python3"
    },
    "language_info": {
      "name": "python",
      "version": "3.7.0 (v3.7.0:1bf9cc5093, Jun 27 2018, 04:59:51) [MSC v.1914 64 bit (AMD64)]"
    },
    "vscode": {
      "interpreter": {
        "hash": "356734b0b4e05b3af569ed06eb258f6ef66038e7268c6bdbb97ecd1a1c609e88"
      }
    }
  },
  "nbformat": 4,
  "nbformat_minor": 0
}
